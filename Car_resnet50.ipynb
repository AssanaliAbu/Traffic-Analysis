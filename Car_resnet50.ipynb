{
  "nbformat": 4,
  "nbformat_minor": 0,
  "metadata": {
    "colab": {
      "provenance": []
    },
    "kernelspec": {
      "name": "python3",
      "display_name": "Python 3"
    },
    "language_info": {
      "name": "python"
    },
    "accelerator": "GPU",
    "gpuClass": "standard"
  },
  "cells": [
    {
      "cell_type": "code",
      "source": [
        "from google.colab import drive \n",
        "drive.mount('/content/drive')"
      ],
      "metadata": {
        "colab": {
          "base_uri": "https://localhost:8080/"
        },
        "id": "3L3TOlwtD3FT",
        "outputId": "9c47a015-0b07-4c3e-86a9-07afe9f96230"
      },
      "execution_count": null,
      "outputs": [
        {
          "output_type": "stream",
          "name": "stdout",
          "text": [
            "Mounted at /content/drive\n"
          ]
        }
      ]
    },
    {
      "cell_type": "code",
      "source": [
        "!unzip /content/drive/MyDrive/car_dataset.zip"
      ],
      "metadata": {
        "id": "GKlC9l2WD20c"
      },
      "execution_count": null,
      "outputs": []
    },
    {
      "cell_type": "code",
      "execution_count": null,
      "metadata": {
        "id": "DGGEA_ywCy4Q",
        "colab": {
          "base_uri": "https://localhost:8080/"
        },
        "outputId": "2268c1dc-d0d5-4b99-bb1e-6957f2b9888e"
      },
      "outputs": [
        {
          "output_type": "stream",
          "name": "stdout",
          "text": [
            "Downloading data from https://storage.googleapis.com/tensorflow/keras-applications/resnet/resnet50_weights_tf_dim_ordering_tf_kernels_notop.h5\n",
            "94765736/94765736 [==============================] - 1s 0us/step\n"
          ]
        },
        {
          "output_type": "stream",
          "name": "stderr",
          "text": [
            "WARNING:absl:`lr` is deprecated, please use `learning_rate` instead, or use the legacy optimizer, e.g.,tf.keras.optimizers.legacy.SGD.\n"
          ]
        },
        {
          "output_type": "stream",
          "name": "stdout",
          "text": [
            "Found 8144 images belonging to 196 classes.\n",
            "Found 8041 images belonging to 196 classes.\n"
          ]
        }
      ],
      "source": [
        "import tensorflow as tf\n",
        "from tensorflow import keras\n",
        "from tensorflow.keras.preprocessing.image import ImageDataGenerator\n",
        "from tensorflow.keras.applications.resnet50 import ResNet50\n",
        "from tensorflow.keras.layers import Dense\n",
        "from tensorflow.keras.models import Model\n",
        "from tensorflow.keras.optimizers import SGD\n",
        "from keras import models\n",
        "from keras import layers\n",
        "\n",
        "from tensorflow.keras.callbacks import ModelCheckpoint\n",
        "\n",
        "# Define the file path for the saved model\n",
        "filepath = \"best_car_resnet50.h5\"\n",
        "\n",
        "\n",
        "# Define the input shape\n",
        "input_shape = (224, 224, 3)\n",
        "\n",
        "# Create the ResNet50 model\n",
        "\n",
        "\n",
        "# Load the pre-trained ResNet50 model\n",
        "base_model = ResNet50(weights='imagenet', include_top=False, input_shape=(224, 224, 3), pooling = 'avg')\n",
        "\n",
        "# Add a new output layer for 196 classes\n",
        "x = base_model.output\n",
        "\n",
        "predictions = layers.Dense(196, activation='softmax')(x)\n",
        "\n",
        "\n",
        "base_model.layers[0].trainable = False\n",
        "\n",
        "# Create the fine-tuned model\n",
        "model = Model(inputs=base_model.input, outputs=predictions)\n",
        "\n",
        "# Compile the model with SGD optimizer and categorical cross-entropy loss\n",
        "optimizer = SGD(lr=0.001, momentum=0.9)\n",
        "model.compile(optimizer=optimizer, loss='categorical_crossentropy', metrics=['accuracy'])\n",
        "\n",
        "\n",
        "# Define the data generators\n",
        "train_dir = 'car_data/car_data/train'\n",
        "test_dir = 'car_data/car_data/test'\n",
        "batch_size = 32\n",
        "\n",
        "train_datagen = ImageDataGenerator(\n",
        "    rescale=1./255,\n",
        "    rotation_range=20,\n",
        "    width_shift_range=0.2,\n",
        "    height_shift_range=0.2,\n",
        "    shear_range=0.2,\n",
        "    zoom_range=0.2,\n",
        "    horizontal_flip=True,\n",
        "    fill_mode='nearest'\n",
        ")\n",
        "\n",
        "\n",
        "test_datagen = ImageDataGenerator(rescale=1./255)\n",
        "\n",
        "train_generator = train_datagen.flow_from_directory(\n",
        "    train_dir,\n",
        "    target_size=(224, 224),\n",
        "    batch_size=batch_size,\n",
        "    class_mode='categorical'\n",
        ")\n",
        "\n",
        "test_generator = test_datagen.flow_from_directory(\n",
        "    test_dir,\n",
        "    target_size=(224, 224),\n",
        "    batch_size=batch_size,\n",
        "    class_mode='categorical'\n",
        ")\n",
        "\n",
        "# # Compile the model\n",
        "# model.compile(optimizer=optimizer, loss=loss_fn, metrics=metrics)\n"
      ]
    },
    {
      "cell_type": "code",
      "source": [
        "checkpoint = ModelCheckpoint(filepath, monitor='val_accuracy', verbose=1, save_best_only=True, mode='max')\n",
        "\n",
        "\n",
        "\n",
        "epochs = 20\n",
        "steps_per_epoch = train_generator.n // train_generator.batch_size\n",
        "validation_steps = test_generator.n // test_generator.batch_size\n",
        "\n",
        "history = model.fit(\n",
        "    train_generator,\n",
        "    steps_per_epoch=steps_per_epoch,\n",
        "    epochs=epochs,\n",
        "    validation_data=test_generator,\n",
        "    validation_steps=validation_steps,\n",
        "    callbacks=[checkpoint]\n",
        ")"
      ],
      "metadata": {
        "id": "RDfwi7UkDvFJ",
        "colab": {
          "base_uri": "https://localhost:8080/"
        },
        "outputId": "47b5f4f0-7409-4979-a23d-f8b4ae56e654"
      },
      "execution_count": null,
      "outputs": [
        {
          "output_type": "stream",
          "name": "stdout",
          "text": [
            "Epoch 1/20\n",
            "254/254 [==============================] - ETA: 0s - loss: 4.5037 - accuracy: 0.0876\n",
            "Epoch 1: val_accuracy improved from -inf to 0.00560, saving model to best_car_resnet50.h5\n",
            "254/254 [==============================] - 350s 1s/step - loss: 4.5037 - accuracy: 0.0876 - val_loss: 5.4343 - val_accuracy: 0.0056\n",
            "Epoch 2/20\n",
            "254/254 [==============================] - ETA: 0s - loss: 2.5915 - accuracy: 0.3466\n",
            "Epoch 2: val_accuracy did not improve from 0.00560\n",
            "254/254 [==============================] - 260s 1s/step - loss: 2.5915 - accuracy: 0.3466 - val_loss: 5.4048 - val_accuracy: 0.0047\n",
            "Epoch 3/20\n",
            "254/254 [==============================] - ETA: 0s - loss: 1.7047 - accuracy: 0.5350\n",
            "Epoch 3: val_accuracy improved from 0.00560 to 0.02938, saving model to best_car_resnet50.h5\n",
            "254/254 [==============================] - 263s 1s/step - loss: 1.7047 - accuracy: 0.5350 - val_loss: 4.9899 - val_accuracy: 0.0294\n",
            "Epoch 4/20\n",
            "254/254 [==============================] - ETA: 0s - loss: 1.1983 - accuracy: 0.6607\n",
            "Epoch 4: val_accuracy improved from 0.02938 to 0.33043, saving model to best_car_resnet50.h5\n",
            "254/254 [==============================] - 266s 1s/step - loss: 1.1983 - accuracy: 0.6607 - val_loss: 3.1018 - val_accuracy: 0.3304\n",
            "Epoch 5/20\n",
            "254/254 [==============================] - ETA: 0s - loss: 0.8931 - accuracy: 0.7403\n",
            "Epoch 5: val_accuracy improved from 0.33043 to 0.48269, saving model to best_car_resnet50.h5\n",
            "254/254 [==============================] - 257s 1s/step - loss: 0.8931 - accuracy: 0.7403 - val_loss: 2.1118 - val_accuracy: 0.4827\n",
            "Epoch 6/20\n",
            "254/254 [==============================] - ETA: 0s - loss: 0.6781 - accuracy: 0.7965\n",
            "Epoch 6: val_accuracy improved from 0.48269 to 0.54631, saving model to best_car_resnet50.h5\n",
            "254/254 [==============================] - 263s 1s/step - loss: 0.6781 - accuracy: 0.7965 - val_loss: 1.7662 - val_accuracy: 0.5463\n",
            "Epoch 7/20\n",
            "254/254 [==============================] - ETA: 0s - loss: 0.5170 - accuracy: 0.8427\n",
            "Epoch 7: val_accuracy improved from 0.54631 to 0.58827, saving model to best_car_resnet50.h5\n",
            "254/254 [==============================] - 262s 1s/step - loss: 0.5170 - accuracy: 0.8427 - val_loss: 1.6608 - val_accuracy: 0.5883\n",
            "Epoch 8/20\n",
            "254/254 [==============================] - ETA: 0s - loss: 0.4295 - accuracy: 0.8669\n",
            "Epoch 8: val_accuracy did not improve from 0.58827\n",
            "254/254 [==============================] - 262s 1s/step - loss: 0.4295 - accuracy: 0.8669 - val_loss: 1.9677 - val_accuracy: 0.5416\n",
            "Epoch 9/20\n",
            "254/254 [==============================] - ETA: 0s - loss: 0.3408 - accuracy: 0.8932\n",
            "Epoch 9: val_accuracy did not improve from 0.58827\n",
            "254/254 [==============================] - 262s 1s/step - loss: 0.3408 - accuracy: 0.8932 - val_loss: 1.8595 - val_accuracy: 0.5814\n",
            "Epoch 10/20\n",
            "254/254 [==============================] - ETA: 0s - loss: 0.2790 - accuracy: 0.9143\n",
            "Epoch 10: val_accuracy improved from 0.58827 to 0.63919, saving model to best_car_resnet50.h5\n",
            "254/254 [==============================] - 264s 1s/step - loss: 0.2790 - accuracy: 0.9143 - val_loss: 1.5667 - val_accuracy: 0.6392\n",
            "Epoch 11/20\n",
            "254/254 [==============================] - ETA: 0s - loss: 0.2399 - accuracy: 0.9283\n",
            "Epoch 11: val_accuracy did not improve from 0.63919\n",
            "254/254 [==============================] - 262s 1s/step - loss: 0.2399 - accuracy: 0.9283 - val_loss: 1.6099 - val_accuracy: 0.6144\n",
            "Epoch 12/20\n",
            "254/254 [==============================] - ETA: 0s - loss: 0.2057 - accuracy: 0.9400\n",
            "Epoch 12: val_accuracy improved from 0.63919 to 0.64343, saving model to best_car_resnet50.h5\n",
            "254/254 [==============================] - 262s 1s/step - loss: 0.2057 - accuracy: 0.9400 - val_loss: 1.4728 - val_accuracy: 0.6434\n",
            "Epoch 13/20\n",
            "254/254 [==============================] - ETA: 0s - loss: 0.1738 - accuracy: 0.9493\n",
            "Epoch 13: val_accuracy did not improve from 0.64343\n",
            "254/254 [==============================] - 263s 1s/step - loss: 0.1738 - accuracy: 0.9493 - val_loss: 1.9912 - val_accuracy: 0.5703\n",
            "Epoch 14/20\n",
            "254/254 [==============================] - ETA: 0s - loss: 0.1602 - accuracy: 0.9498\n",
            "Epoch 14: val_accuracy did not improve from 0.64343\n",
            "254/254 [==============================] - 259s 1s/step - loss: 0.1602 - accuracy: 0.9498 - val_loss: 1.7384 - val_accuracy: 0.6164\n",
            "Epoch 15/20\n",
            "254/254 [==============================] - ETA: 0s - loss: 0.1312 - accuracy: 0.9615\n",
            "Epoch 15: val_accuracy improved from 0.64343 to 0.70891, saving model to best_car_resnet50.h5\n",
            "254/254 [==============================] - 263s 1s/step - loss: 0.1312 - accuracy: 0.9615 - val_loss: 1.3052 - val_accuracy: 0.7089\n",
            "Epoch 16/20\n",
            "254/254 [==============================] - ETA: 0s - loss: 0.1352 - accuracy: 0.9581\n",
            "Epoch 16: val_accuracy did not improve from 0.70891\n",
            "254/254 [==============================] - 259s 1s/step - loss: 0.1352 - accuracy: 0.9581 - val_loss: 1.3008 - val_accuracy: 0.7034\n",
            "Epoch 17/20\n",
            "254/254 [==============================] - ETA: 0s - loss: 0.1278 - accuracy: 0.9618\n",
            "Epoch 17: val_accuracy did not improve from 0.70891\n",
            "254/254 [==============================] - 256s 1s/step - loss: 0.1278 - accuracy: 0.9618 - val_loss: 1.4730 - val_accuracy: 0.6604\n",
            "Epoch 18/20\n",
            "254/254 [==============================] - ETA: 0s - loss: 0.1108 - accuracy: 0.9673\n",
            "Epoch 18: val_accuracy improved from 0.70891 to 0.71389, saving model to best_car_resnet50.h5\n",
            "254/254 [==============================] - 262s 1s/step - loss: 0.1108 - accuracy: 0.9673 - val_loss: 1.2192 - val_accuracy: 0.7139\n",
            "Epoch 19/20\n",
            "254/254 [==============================] - ETA: 0s - loss: 0.1023 - accuracy: 0.9700\n",
            "Epoch 19: val_accuracy did not improve from 0.71389\n",
            "254/254 [==============================] - 261s 1s/step - loss: 0.1023 - accuracy: 0.9700 - val_loss: 1.4443 - val_accuracy: 0.6641\n",
            "Epoch 20/20\n",
            "254/254 [==============================] - ETA: 0s - loss: 0.0775 - accuracy: 0.9768\n",
            "Epoch 20: val_accuracy did not improve from 0.71389\n",
            "254/254 [==============================] - 261s 1s/step - loss: 0.0775 - accuracy: 0.9768 - val_loss: 1.6457 - val_accuracy: 0.6549\n"
          ]
        }
      ]
    },
    {
      "cell_type": "code",
      "source": [
        "class_names = train_generator.class_indices\n",
        "print(class_names)"
      ],
      "metadata": {
        "colab": {
          "base_uri": "https://localhost:8080/"
        },
        "id": "NMlQEEVzeFXG",
        "outputId": "3c17e96c-aeb4-445d-9109-81b08c5f3355"
      },
      "execution_count": null,
      "outputs": [
        {
          "output_type": "stream",
          "name": "stdout",
          "text": [
            "{'AM General Hummer SUV 2000': 0, 'Acura Integra Type R 2001': 1, 'Acura RL Sedan 2012': 2, 'Acura TL Sedan 2012': 3, 'Acura TL Type-S 2008': 4, 'Acura TSX Sedan 2012': 5, 'Acura ZDX Hatchback 2012': 6, 'Aston Martin V8 Vantage Convertible 2012': 7, 'Aston Martin V8 Vantage Coupe 2012': 8, 'Aston Martin Virage Convertible 2012': 9, 'Aston Martin Virage Coupe 2012': 10, 'Audi 100 Sedan 1994': 11, 'Audi 100 Wagon 1994': 12, 'Audi A5 Coupe 2012': 13, 'Audi R8 Coupe 2012': 14, 'Audi RS 4 Convertible 2008': 15, 'Audi S4 Sedan 2007': 16, 'Audi S4 Sedan 2012': 17, 'Audi S5 Convertible 2012': 18, 'Audi S5 Coupe 2012': 19, 'Audi S6 Sedan 2011': 20, 'Audi TT Hatchback 2011': 21, 'Audi TT RS Coupe 2012': 22, 'Audi TTS Coupe 2012': 23, 'Audi V8 Sedan 1994': 24, 'BMW 1 Series Convertible 2012': 25, 'BMW 1 Series Coupe 2012': 26, 'BMW 3 Series Sedan 2012': 27, 'BMW 3 Series Wagon 2012': 28, 'BMW 6 Series Convertible 2007': 29, 'BMW ActiveHybrid 5 Sedan 2012': 30, 'BMW M3 Coupe 2012': 31, 'BMW M5 Sedan 2010': 32, 'BMW M6 Convertible 2010': 33, 'BMW X3 SUV 2012': 34, 'BMW X5 SUV 2007': 35, 'BMW X6 SUV 2012': 36, 'BMW Z4 Convertible 2012': 37, 'Bentley Arnage Sedan 2009': 38, 'Bentley Continental Flying Spur Sedan 2007': 39, 'Bentley Continental GT Coupe 2007': 40, 'Bentley Continental GT Coupe 2012': 41, 'Bentley Continental Supersports Conv. Convertible 2012': 42, 'Bentley Mulsanne Sedan 2011': 43, 'Bugatti Veyron 16.4 Convertible 2009': 44, 'Bugatti Veyron 16.4 Coupe 2009': 45, 'Buick Enclave SUV 2012': 46, 'Buick Rainier SUV 2007': 47, 'Buick Regal GS 2012': 48, 'Buick Verano Sedan 2012': 49, 'Cadillac CTS-V Sedan 2012': 50, 'Cadillac Escalade EXT Crew Cab 2007': 51, 'Cadillac SRX SUV 2012': 52, 'Chevrolet Avalanche Crew Cab 2012': 53, 'Chevrolet Camaro Convertible 2012': 54, 'Chevrolet Cobalt SS 2010': 55, 'Chevrolet Corvette Convertible 2012': 56, 'Chevrolet Corvette Ron Fellows Edition Z06 2007': 57, 'Chevrolet Corvette ZR1 2012': 58, 'Chevrolet Express Cargo Van 2007': 59, 'Chevrolet Express Van 2007': 60, 'Chevrolet HHR SS 2010': 61, 'Chevrolet Impala Sedan 2007': 62, 'Chevrolet Malibu Hybrid Sedan 2010': 63, 'Chevrolet Malibu Sedan 2007': 64, 'Chevrolet Monte Carlo Coupe 2007': 65, 'Chevrolet Silverado 1500 Classic Extended Cab 2007': 66, 'Chevrolet Silverado 1500 Extended Cab 2012': 67, 'Chevrolet Silverado 1500 Hybrid Crew Cab 2012': 68, 'Chevrolet Silverado 1500 Regular Cab 2012': 69, 'Chevrolet Silverado 2500HD Regular Cab 2012': 70, 'Chevrolet Sonic Sedan 2012': 71, 'Chevrolet Tahoe Hybrid SUV 2012': 72, 'Chevrolet TrailBlazer SS 2009': 73, 'Chevrolet Traverse SUV 2012': 74, 'Chrysler 300 SRT-8 2010': 75, 'Chrysler Aspen SUV 2009': 76, 'Chrysler Crossfire Convertible 2008': 77, 'Chrysler PT Cruiser Convertible 2008': 78, 'Chrysler Sebring Convertible 2010': 79, 'Chrysler Town and Country Minivan 2012': 80, 'Daewoo Nubira Wagon 2002': 81, 'Dodge Caliber Wagon 2007': 82, 'Dodge Caliber Wagon 2012': 83, 'Dodge Caravan Minivan 1997': 84, 'Dodge Challenger SRT8 2011': 85, 'Dodge Charger SRT-8 2009': 86, 'Dodge Charger Sedan 2012': 87, 'Dodge Dakota Club Cab 2007': 88, 'Dodge Dakota Crew Cab 2010': 89, 'Dodge Durango SUV 2007': 90, 'Dodge Durango SUV 2012': 91, 'Dodge Journey SUV 2012': 92, 'Dodge Magnum Wagon 2008': 93, 'Dodge Ram Pickup 3500 Crew Cab 2010': 94, 'Dodge Ram Pickup 3500 Quad Cab 2009': 95, 'Dodge Sprinter Cargo Van 2009': 96, 'Eagle Talon Hatchback 1998': 97, 'FIAT 500 Abarth 2012': 98, 'FIAT 500 Convertible 2012': 99, 'Ferrari 458 Italia Convertible 2012': 100, 'Ferrari 458 Italia Coupe 2012': 101, 'Ferrari California Convertible 2012': 102, 'Ferrari FF Coupe 2012': 103, 'Fisker Karma Sedan 2012': 104, 'Ford E-Series Wagon Van 2012': 105, 'Ford Edge SUV 2012': 106, 'Ford Expedition EL SUV 2009': 107, 'Ford F-150 Regular Cab 2007': 108, 'Ford F-150 Regular Cab 2012': 109, 'Ford F-450 Super Duty Crew Cab 2012': 110, 'Ford Fiesta Sedan 2012': 111, 'Ford Focus Sedan 2007': 112, 'Ford Freestar Minivan 2007': 113, 'Ford GT Coupe 2006': 114, 'Ford Mustang Convertible 2007': 115, 'Ford Ranger SuperCab 2011': 116, 'GMC Acadia SUV 2012': 117, 'GMC Canyon Extended Cab 2012': 118, 'GMC Savana Van 2012': 119, 'GMC Terrain SUV 2012': 120, 'GMC Yukon Hybrid SUV 2012': 121, 'Geo Metro Convertible 1993': 122, 'HUMMER H2 SUT Crew Cab 2009': 123, 'HUMMER H3T Crew Cab 2010': 124, 'Honda Accord Coupe 2012': 125, 'Honda Accord Sedan 2012': 126, 'Honda Odyssey Minivan 2007': 127, 'Honda Odyssey Minivan 2012': 128, 'Hyundai Accent Sedan 2012': 129, 'Hyundai Azera Sedan 2012': 130, 'Hyundai Elantra Sedan 2007': 131, 'Hyundai Elantra Touring Hatchback 2012': 132, 'Hyundai Genesis Sedan 2012': 133, 'Hyundai Santa Fe SUV 2012': 134, 'Hyundai Sonata Hybrid Sedan 2012': 135, 'Hyundai Sonata Sedan 2012': 136, 'Hyundai Tucson SUV 2012': 137, 'Hyundai Veloster Hatchback 2012': 138, 'Hyundai Veracruz SUV 2012': 139, 'Infiniti G Coupe IPL 2012': 140, 'Infiniti QX56 SUV 2011': 141, 'Isuzu Ascender SUV 2008': 142, 'Jaguar XK XKR 2012': 143, 'Jeep Compass SUV 2012': 144, 'Jeep Grand Cherokee SUV 2012': 145, 'Jeep Liberty SUV 2012': 146, 'Jeep Patriot SUV 2012': 147, 'Jeep Wrangler SUV 2012': 148, 'Lamborghini Aventador Coupe 2012': 149, 'Lamborghini Diablo Coupe 2001': 150, 'Lamborghini Gallardo LP 570-4 Superleggera 2012': 151, 'Lamborghini Reventon Coupe 2008': 152, 'Land Rover LR2 SUV 2012': 153, 'Land Rover Range Rover SUV 2012': 154, 'Lincoln Town Car Sedan 2011': 155, 'MINI Cooper Roadster Convertible 2012': 156, 'Maybach Landaulet Convertible 2012': 157, 'Mazda Tribute SUV 2011': 158, 'McLaren MP4-12C Coupe 2012': 159, 'Mercedes-Benz 300-Class Convertible 1993': 160, 'Mercedes-Benz C-Class Sedan 2012': 161, 'Mercedes-Benz E-Class Sedan 2012': 162, 'Mercedes-Benz S-Class Sedan 2012': 163, 'Mercedes-Benz SL-Class Coupe 2009': 164, 'Mercedes-Benz Sprinter Van 2012': 165, 'Mitsubishi Lancer Sedan 2012': 166, 'Nissan 240SX Coupe 1998': 167, 'Nissan Juke Hatchback 2012': 168, 'Nissan Leaf Hatchback 2012': 169, 'Nissan NV Passenger Van 2012': 170, 'Plymouth Neon Coupe 1999': 171, 'Porsche Panamera Sedan 2012': 172, 'Ram C-V Cargo Van Minivan 2012': 173, 'Rolls-Royce Ghost Sedan 2012': 174, 'Rolls-Royce Phantom Drophead Coupe Convertible 2012': 175, 'Rolls-Royce Phantom Sedan 2012': 176, 'Scion xD Hatchback 2012': 177, 'Spyker C8 Convertible 2009': 178, 'Spyker C8 Coupe 2009': 179, 'Suzuki Aerio Sedan 2007': 180, 'Suzuki Kizashi Sedan 2012': 181, 'Suzuki SX4 Hatchback 2012': 182, 'Suzuki SX4 Sedan 2012': 183, 'Tesla Model S Sedan 2012': 184, 'Toyota 4Runner SUV 2012': 185, 'Toyota Camry Sedan 2012': 186, 'Toyota Corolla Sedan 2012': 187, 'Toyota Sequoia SUV 2012': 188, 'Volkswagen Beetle Hatchback 2012': 189, 'Volkswagen Golf Hatchback 1991': 190, 'Volkswagen Golf Hatchback 2012': 191, 'Volvo 240 Sedan 1993': 192, 'Volvo C30 Hatchback 2012': 193, 'Volvo XC90 SUV 2007': 194, 'smart fortwo Convertible 2012': 195}\n"
          ]
        }
      ]
    },
    {
      "cell_type": "code",
      "source": [],
      "metadata": {
        "id": "ITqbLJPonk1q"
      },
      "execution_count": null,
      "outputs": []
    }
  ]
}